{
  "nbformat": 4,
  "nbformat_minor": 0,
  "metadata": {
    "kernelspec": {
      "display_name": "Python 3",
      "language": "python",
      "name": "python3"
    },
    "language_info": {
      "codemirror_mode": {
        "name": "ipython",
        "version": 3
      },
      "file_extension": ".py",
      "mimetype": "text/x-python",
      "name": "python",
      "nbconvert_exporter": "python",
      "pygments_lexer": "ipython3",
      "version": "3.7.6"
    },
    "colab": {
      "name": "Gradient and Cost Functions.ipynb",
      "provenance": [],
      "collapsed_sections": [],
      "include_colab_link": true
    }
  },
  "cells": [
    {
      "cell_type": "markdown",
      "metadata": {
        "id": "view-in-github",
        "colab_type": "text"
      },
      "source": [
        "<a href=\"https://colab.research.google.com/github/sagar3992/AI_MachineLearning/blob/master/Gradient_and_Cost_Functions.ipynb\" target=\"_parent\"><img src=\"https://colab.research.google.com/assets/colab-badge.svg\" alt=\"Open In Colab\"/></a>"
      ]
    },
    {
      "cell_type": "code",
      "metadata": {
        "id": "0l5rmm1gbW3u",
        "colab_type": "code",
        "colab": {}
      },
      "source": [
        "def compute_cost(x, y, params):\n",
        "    \"Compute linear regression cost (mean_square) - use something like this for computing the cost using tanh and sigmoid\"\n",
        "    num_samples = len(y)\n",
        "    cost_sum = 0.0\n",
        "    #print(x.shape, y.shape)\n",
        "    y_hat = np.dot( x, params)\n",
        "    cost_sum = (y_hat - y) ** 2\n",
        "    cost = np.sum(cost_sum) / (num_samples * 2.0)\n",
        "    #print(\"Cost = \", cost)\n",
        "    return cost"
      ],
      "execution_count": 0,
      "outputs": []
    },
    {
      "cell_type": "code",
      "metadata": {
        "id": "YjrccMWfbW32",
        "colab_type": "code",
        "colab": {}
      },
      "source": [
        "import numpy as np\n",
        "\"Function of Stochaistic GD\"\n",
        "def my_SGD(x, y, params, itr, lr, cost_history, params_history):\n",
        "    sample_size= len(y)\n",
        "    m= np.random.randint(0,sample_size)\n",
        "    cost = compute_cost(np.append([[1.0]]*(sample_size-m),x[m:], axis=1),y[m:],params)\n",
        "    cost_history.append(cost)\n",
        "    for a,b in zip(x[m:],y[m:]):\n",
        "        xt=  np.append([1.0],a)\n",
        "        y_pred = np.dot(params,xt)\n",
        "        loss = b - y_pred\n",
        "        gradient = xt * loss\n",
        "        params = params + (lr * gradient / sample_size)\n",
        "    if itr is not 0:\n",
        "        my_SGD(x,y,params,itr-1,lr,cost_history,params_history)\n",
        "    \n",
        "    return params, cost_history"
      ],
      "execution_count": 0,
      "outputs": []
    },
    {
      "cell_type": "code",
      "metadata": {
        "id": "ZQGE2yg4bW4M",
        "colab_type": "code",
        "colab": {}
      },
      "source": [
        "import numpy as np\n",
        "\"Function of GD\"\n",
        "def my_GD(x, y, params, itr, lr, cost_history, params_history):\n",
        "    sample_size= len(y)\n",
        "    cost = compute_cost(np.append([[1.0]]*(sample_size),x, axis=1),y,params)\n",
        "    cost_history.append(cost)\n",
        "    xt= np.append([[1.0]]*sample_size, x, axis=1)\n",
        "    y_pred = np.dot(xt, params)\n",
        "    loss = np.subtract(y, y_pred)\n",
        "    gradient = np.dot(np.transpose(xt), loss)\n",
        "    params = params + (lr * gradient / sample_size)\n",
        "    \n",
        "    if itr is not 0:\n",
        "        my_GD(x,y,params,itr-1,lr,cost_history,params_history)\n",
        "\n",
        "    return params, cost_history"
      ],
      "execution_count": 0,
      "outputs": []
    },
    {
      "cell_type": "code",
      "metadata": {
        "id": "Rok0gNtObW36",
        "colab_type": "code",
        "colab": {}
      },
      "source": [
        "\"Implemenation of SGD and GD\"\n",
        "x=np.array([[0,0],[0,1],[1,0],[1,1]])\n",
        "y=np.array([0,0,0,1])\n",
        "params=np.array([1,20,20])\n",
        "max_iter, alpha = 800, 1\n",
        "a,b=my_SGD(x, y, params, max_iter, alpha, [], []) # SGD in a,b\n",
        "c,d=my_GD(x, y, params, max_iter, alpha, [], []) # GD in c,d"
      ],
      "execution_count": 0,
      "outputs": []
    },
    {
      "cell_type": "code",
      "metadata": {
        "id": "BeREdeZdbW4H",
        "colab_type": "code",
        "outputId": "98e08626-82ea-464e-b3fa-a9acfd63af77",
        "colab": {
          "base_uri": "https://localhost:8080/",
          "height": 315
        }
      },
      "source": [
        "\"Plotting the cost history over iterations\"\n",
        "import matplotlib.pyplot as plt\n",
        "#plt.plot( np.array(]).reshape(2492) , [row[2] for row in b], '-b')\n",
        "#b=np.array(b)\n",
        "#print(b.shape)\n",
        "plt.figure()\n",
        "plt.plot([x for x in range(0,max_iter+1)], b, 'b', label='SGD')\n",
        "plt.plot([x for x in range(0,max_iter+1)], d, 'r', label='GD')\n",
        "plt.xlabel('Iterations')\n",
        "plt.ylabel('Loss')\n",
        "plt.legend()\n",
        "plt.show()\n",
        "print(f'Minimum cost with stochastic GD: {b[max_iter-1]}')\n",
        "print(f'Minimum cost with GD : {d[max_iter-1]}')"
      ],
      "execution_count": 82,
      "outputs": [
        {
          "output_type": "display_data",
          "data": {
            "image/png": "[encoded data removed]",
            "text/plain": [
              "<Figure size 432x288 with 1 Axes>"
            ]
          },
          "metadata": {
            "tags": []
          }
        },
        {
          "output_type": "stream",
          "text": [
            "Minimum cost with stochastic GD: 0.0007830060940535055\n",
            "Minimum cost with GD : 0.03125\n"
          ],
          "name": "stdout"
        }
      ]
    },
    {
      "cell_type": "code",
      "metadata": {
        "id": "Kvi_cp3fbW4S",
        "colab_type": "code",
        "colab": {}
      },
      "source": [
        ""
      ],
      "execution_count": 0,
      "outputs": []
    }
  ]
}